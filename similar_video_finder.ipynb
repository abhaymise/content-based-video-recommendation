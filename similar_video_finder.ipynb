{
 "cells": [
  {
   "cell_type": "markdown",
   "metadata": {},
   "source": [
    "# Problem Statement : \n",
    "    \n",
    "    To Build a content based video recommender system which predicts the most similar video given a query video."
   ]
  },
  {
   "cell_type": "code",
   "execution_count": null,
   "metadata": {},
   "outputs": [],
   "source": [
    "! tar --exclude='./CBVR' --exclude='./Videos' -zcvf .tgz ."
   ]
  },
  {
   "cell_type": "markdown",
   "metadata": {},
   "source": [
    "## Algorithm :\n",
    "\n",
    "        input : query video , set of pre-existent videos , pre-existent videos class\n",
    "        ``Training`` :\n",
    "            Step 1 : Extract out features from the pre-existent videos\n",
    "            Step 2 : Reduce the dimension of the feature without loosing much information about the video\n",
    "            Step 3 : With reduced feature and pre-existent videos class , train a classifier to detect the \n",
    "            genre of the video\n",
    "            Step 4 : Index the reduced feature to be used for video search\n",
    "            Step 5 : save the classifier to be used for genre prediction \n",
    "        ``Inference`` :\n",
    "            Step 1 : Extract the features from the query video\n",
    "            Step 2 : Reduce the dimension of the query video by using the same set of condition which was \n",
    "            used during training\n",
    "            Step 3 : Get the genre of the query video \n",
    "            Step 4 : Load all indexed features corresponding to the detected genre\n",
    "            Step 5 : Find the most close video vector from the indexed video vectors\n",
    "        Output : Map the video vector  aganist the matching video id and throw it as recommendation"
   ]
  },
  {
   "cell_type": "markdown",
   "metadata": {},
   "source": [
    "### Set of technical steps to use a content based recommender system"
   ]
  },
  {
   "cell_type": "markdown",
   "metadata": {},
   "source": [
    "    load c3d extractor\n",
    "    load standard scalar\n",
    "    load pca transfomer\n",
    "    load video classifier\n",
    "    load_indexed videos\n",
    "\n",
    "    display query video\n",
    "    read query_video\n",
    "    get the c3d feature\n",
    "    scale the features\n",
    "    take out principle components\n",
    "    get the class \n",
    "    find similar video from the class"
   ]
  },
  {
   "cell_type": "code",
   "execution_count": 1,
   "metadata": {},
   "outputs": [
    {
     "name": "stderr",
     "output_type": "stream",
     "text": [
      "Using TensorFlow backend.\n"
     ]
    },
    {
     "name": "stdout",
     "output_type": "stream",
     "text": [
      "[INFO] C3D model loaded ...\n"
     ]
    }
   ],
   "source": [
    "from keras.models import load_model\n",
    "import pickle\n",
    "import numpy as np\n",
    "import all_in_one_utils as ao_util\n",
    "\n",
    "def get_all_intermediates(directory):\n",
    "    mlp_model = load_model(directory+\"/mlp_model.pkl\")\n",
    "    with open(directory+\"/scalar.pkl\",\"rb\") as scalar_:\n",
    "        scaler = pickle.load( scalar_)\n",
    "    ## pca\n",
    "    with open(directory+\"/pca.pkl\",\"rb\") as pca_:\n",
    "        pca_90 = pickle.load( pca_)\n",
    "     ## pca\n",
    "    with open(directory+\"/text_labels.pkl\",\"rb\") as text_labels_:\n",
    "        text_labels = pickle.load( text_labels_)\n",
    "    ## features \n",
    "    with open(directory+\"/pca_df.pkl\",\"rb\") as pca_df_:\n",
    "        pca_df = pickle.load( pca_df_) \n",
    "    return scaler,pca_90,pca_df,mlp_model,text_labels\n",
    "\n",
    "\n",
    "def get_video_class(video_path):\n",
    "    query_c3d = ao_util.get_3d_feature(video_path)\n",
    "\n",
    "    scaled_query = scaler.transform(query_c3d)\n",
    "\n",
    "    query_video_embdedding = pca_90.transform(scaled_query)\n",
    "\n",
    "    predicted_class_id = mlp_model.predict_classes(query_video_embdedding,128)\n",
    "\n",
    "    predicted_class = list(map(lambda x : text_labels[x],predicted_class_id))\n",
    "    \n",
    "    predicted_class = max(predicted_class,key=predicted_class.count)\n",
    "    \n",
    "    print(\"The video belongs from {} category\".format(predicted_class))\n",
    "\n",
    "    return query_video_embdedding,predicted_class\n",
    "\n",
    "def find_similar(video_id,query_video_embdedding):\n",
    "    video_id = int(video_url.split(\"/\")[-1].split(\".\")[0])\n",
    "\n",
    "    filtered_embedding = pca_df[(pca_df['label']==video_class) & \n",
    "                                (pca_df['video_id']!=video_id)]\n",
    "\n",
    "    pixel_cols =[val for val in pca_df.columns if val.startswith('pixel')]\n",
    "\n",
    "    indexed_embedding = filtered_embedding[pixel_cols]\n",
    "\n",
    "    from scipy.spatial.distance import cdist\n",
    "    distance = cdist(query_video_embdedding,indexed_embedding)\n",
    "\n",
    "\n",
    "    n_least = 1\n",
    "    sorted_idx = np.argsort(distance,axis=1)[:,:n_least]\n",
    "\n",
    "    clip_to_id = np.apply_along_axis(lambda vid_id : filtered_embedding['video_id'].iloc[vid_id] , 1, sorted_idx)\n",
    "\n",
    "    from scipy import stats\n",
    "    repeated = stats.mode(clip_to_id)\n",
    "\n",
    "    rec_id = np.asscalar(repeated[0])\n",
    "    print(\"recommended video is %d \"%rec_id)\n",
    "    return rec_id"
   ]
  },
  {
   "cell_type": "code",
   "execution_count": 4,
   "metadata": {},
   "outputs": [],
   "source": [
    "from IPython.display import HTML\n",
    "def render(rec_id):\n",
    "    return HTML(\"\"\"\n",
    "    <video width=\"320\" height=\"240\" controls>\n",
    "      <source src=\"Videos/{}.mp4\" type=\"video/mp4\">\n",
    "    </video>\n",
    "    \"\"\".format(rec_id))\n",
    "\n",
    "def get_id_from_url(video_url):\n",
    "    return video_url.split(\"/\")[1].split(\".\")[0]"
   ]
  },
  {
   "cell_type": "code",
   "execution_count": 2,
   "metadata": {},
   "outputs": [],
   "source": [
    "scaler,pca_90,pca_df,mlp_model,text_labels = get_all_intermediates(\"/home/deep-vision/.cbvr/persistent_files\")"
   ]
  },
  {
   "cell_type": "code",
   "execution_count": 3,
   "metadata": {},
   "outputs": [
    {
     "data": {
      "text/plain": [
       "Index(['FUNNY', 'WISHES', 'MOTIVATIONAL', 'DEVOTIONAL', 'SHAYARI', 'UGC',\n",
       "       'SONGS'],\n",
       "      dtype='object')"
      ]
     },
     "execution_count": 3,
     "metadata": {},
     "output_type": "execute_result"
    }
   ],
   "source": [
    "text_labels"
   ]
  },
  {
   "cell_type": "markdown",
   "metadata": {},
   "source": [
    "## Example 1"
   ]
  },
  {
   "cell_type": "code",
   "execution_count": 5,
   "metadata": {},
   "outputs": [
    {
     "data": {
      "text/html": [
       "\n",
       "    <video width=\"320\" height=\"240\" controls>\n",
       "      <source src=\"Videos/12099245.mp4\" type=\"video/mp4\">\n",
       "    </video>\n",
       "    "
      ],
      "text/plain": [
       "<IPython.core.display.HTML object>"
      ]
     },
     "execution_count": 5,
     "metadata": {},
     "output_type": "execute_result"
    }
   ],
   "source": [
    "video_url = 'Videos/12099245.mp4'\n",
    "render(get_id_from_url(video_url))"
   ]
  },
  {
   "cell_type": "code",
   "execution_count": 6,
   "metadata": {},
   "outputs": [
    {
     "name": "stdout",
     "output_type": "stream",
     "text": [
      "video stats  (2966, 400, 400, 3)\n",
      "total temporal vectors  186\n",
      "The video belongs from SHAYARI category\n"
     ]
    }
   ],
   "source": [
    "query_video_embdedding,video_class = get_video_class(video_url)"
   ]
  },
  {
   "cell_type": "code",
   "execution_count": 8,
   "metadata": {},
   "outputs": [
    {
     "name": "stdout",
     "output_type": "stream",
     "text": [
      "recommended video is 12119230 \n"
     ]
    }
   ],
   "source": [
    "rec_id = find_similar(get_id_from_url(video_url),query_video_embdedding)"
   ]
  },
  {
   "cell_type": "code",
   "execution_count": 9,
   "metadata": {},
   "outputs": [
    {
     "data": {
      "text/html": [
       "\n",
       "    <video width=\"320\" height=\"240\" controls>\n",
       "      <source src=\"Videos/12119230.mp4\" type=\"video/mp4\">\n",
       "    </video>\n",
       "    "
      ],
      "text/plain": [
       "<IPython.core.display.HTML object>"
      ]
     },
     "execution_count": 9,
     "metadata": {},
     "output_type": "execute_result"
    }
   ],
   "source": [
    "render(rec_id)"
   ]
  },
  {
   "cell_type": "markdown",
   "metadata": {},
   "source": [
    "##### Observations\n",
    "\n",
    "Note the model not only recommended the similar video but it can also solve the problem of duplicates.\n",
    "The above predicted video was registered as other vdeo id."
   ]
  },
  {
   "cell_type": "markdown",
   "metadata": {},
   "source": [
    "## Example 2"
   ]
  },
  {
   "cell_type": "code",
   "execution_count": 10,
   "metadata": {},
   "outputs": [
    {
     "data": {
      "text/html": [
       "\n",
       "    <video width=\"320\" height=\"240\" controls>\n",
       "      <source src=\"Videos/12377756.mp4\" type=\"video/mp4\">\n",
       "    </video>\n",
       "    "
      ],
      "text/plain": [
       "<IPython.core.display.HTML object>"
      ]
     },
     "execution_count": 10,
     "metadata": {},
     "output_type": "execute_result"
    }
   ],
   "source": [
    "video_url = 'Videos/12377756.mp4'\n",
    "render(get_id_from_url(video_url))"
   ]
  },
  {
   "cell_type": "code",
   "execution_count": 11,
   "metadata": {},
   "outputs": [
    {
     "name": "stdout",
     "output_type": "stream",
     "text": [
      "video stats  (1831, 480, 264, 3)\n",
      "total temporal vectors  115\n",
      "The video belongs from WISHES category\n"
     ]
    }
   ],
   "source": [
    "query_video_embdedding,video_class = get_video_class(video_url)"
   ]
  },
  {
   "cell_type": "code",
   "execution_count": 12,
   "metadata": {},
   "outputs": [
    {
     "name": "stdout",
     "output_type": "stream",
     "text": [
      "recommended video is 12381719 \n"
     ]
    }
   ],
   "source": [
    "rec_id = find_similar(get_id_from_url(video_url),query_video_embdedding)"
   ]
  },
  {
   "cell_type": "code",
   "execution_count": 13,
   "metadata": {},
   "outputs": [
    {
     "data": {
      "text/html": [
       "\n",
       "    <video width=\"320\" height=\"240\" controls>\n",
       "      <source src=\"Videos/12381719.mp4\" type=\"video/mp4\">\n",
       "    </video>\n",
       "    "
      ],
      "text/plain": [
       "<IPython.core.display.HTML object>"
      ]
     },
     "execution_count": 13,
     "metadata": {},
     "output_type": "execute_result"
    }
   ],
   "source": [
    "render(rec_id)"
   ]
  },
  {
   "cell_type": "markdown",
   "metadata": {},
   "source": [
    "##### Observations\n",
    "\n",
    "We were able to find a video which has a sligh diffrence in their content (Text ovelay is in different language)"
   ]
  },
  {
   "cell_type": "markdown",
   "metadata": {},
   "source": [
    "#### Example 3"
   ]
  },
  {
   "cell_type": "code",
   "execution_count": 14,
   "metadata": {},
   "outputs": [
    {
     "data": {
      "text/html": [
       "\n",
       "    <video width=\"320\" height=\"240\" controls>\n",
       "      <source src=\"Videos/12478453.mp4\" type=\"video/mp4\">\n",
       "    </video>\n",
       "    "
      ],
      "text/plain": [
       "<IPython.core.display.HTML object>"
      ]
     },
     "execution_count": 14,
     "metadata": {},
     "output_type": "execute_result"
    }
   ],
   "source": [
    "\n",
    "video_url = 'Videos/12478453.mp4'\n",
    "render(get_id_from_url(video_url))"
   ]
  },
  {
   "cell_type": "code",
   "execution_count": 15,
   "metadata": {},
   "outputs": [
    {
     "name": "stdout",
     "output_type": "stream",
     "text": [
      "video stats  (1225, 480, 320, 3)\n",
      "total temporal vectors  77\n",
      "The video belongs from DEVOTIONAL category\n"
     ]
    }
   ],
   "source": [
    "query_video_embdedding,video_class = get_video_class(video_url)"
   ]
  },
  {
   "cell_type": "code",
   "execution_count": 16,
   "metadata": {},
   "outputs": [
    {
     "name": "stdout",
     "output_type": "stream",
     "text": [
      "recommended video is 12386204 \n"
     ]
    }
   ],
   "source": [
    "rec_id = find_similar(get_id_from_url(video_url),query_video_embdedding)"
   ]
  },
  {
   "cell_type": "code",
   "execution_count": 17,
   "metadata": {},
   "outputs": [
    {
     "data": {
      "text/html": [
       "\n",
       "    <video width=\"320\" height=\"240\" controls>\n",
       "      <source src=\"Videos/12386204.mp4\" type=\"video/mp4\">\n",
       "    </video>\n",
       "    "
      ],
      "text/plain": [
       "<IPython.core.display.HTML object>"
      ]
     },
     "execution_count": 17,
     "metadata": {},
     "output_type": "execute_result"
    }
   ],
   "source": [
    "render(rec_id)"
   ]
  },
  {
   "cell_type": "markdown",
   "metadata": {},
   "source": [
    "##### Observations\n",
    "\n",
    "We were able to find a video which has same genre (devotional)"
   ]
  },
  {
   "cell_type": "markdown",
   "metadata": {},
   "source": [
    "### Example 4 "
   ]
  },
  {
   "cell_type": "code",
   "execution_count": 18,
   "metadata": {},
   "outputs": [
    {
     "data": {
      "text/html": [
       "\n",
       "    <video width=\"320\" height=\"240\" controls>\n",
       "      <source src=\"Videos/12471918.mp4\" type=\"video/mp4\">\n",
       "    </video>\n",
       "    "
      ],
      "text/plain": [
       "<IPython.core.display.HTML object>"
      ]
     },
     "execution_count": 18,
     "metadata": {},
     "output_type": "execute_result"
    }
   ],
   "source": [
    "video_url = 'Videos/12471918.mp4'\n",
    "render(get_id_from_url(video_url))"
   ]
  },
  {
   "cell_type": "code",
   "execution_count": 19,
   "metadata": {},
   "outputs": [
    {
     "name": "stdout",
     "output_type": "stream",
     "text": [
      "video stats  (8991, 360, 640, 3)\n",
      "total temporal vectors  562\n",
      "The video belongs from FUNNY category\n"
     ]
    }
   ],
   "source": [
    "query_video_embdedding,video_class = get_video_class(video_url)"
   ]
  },
  {
   "cell_type": "code",
   "execution_count": 20,
   "metadata": {},
   "outputs": [
    {
     "name": "stdout",
     "output_type": "stream",
     "text": [
      "recommended video is 12378333 \n"
     ]
    }
   ],
   "source": [
    "rec_id = find_similar(get_id_from_url(video_url),query_video_embdedding)"
   ]
  },
  {
   "cell_type": "code",
   "execution_count": 21,
   "metadata": {},
   "outputs": [
    {
     "data": {
      "text/html": [
       "\n",
       "    <video width=\"320\" height=\"240\" controls>\n",
       "      <source src=\"Videos/12378333.mp4\" type=\"video/mp4\">\n",
       "    </video>\n",
       "    "
      ],
      "text/plain": [
       "<IPython.core.display.HTML object>"
      ]
     },
     "execution_count": 21,
     "metadata": {},
     "output_type": "execute_result"
    }
   ],
   "source": [
    "render(rec_id)"
   ]
  },
  {
   "cell_type": "markdown",
   "metadata": {},
   "source": [
    "### Example 5"
   ]
  },
  {
   "cell_type": "code",
   "execution_count": 22,
   "metadata": {},
   "outputs": [
    {
     "data": {
      "text/html": [
       "\n",
       "    <video width=\"320\" height=\"240\" controls>\n",
       "      <source src=\"Videos/12129342.mp4\" type=\"video/mp4\">\n",
       "    </video>\n",
       "    "
      ],
      "text/plain": [
       "<IPython.core.display.HTML object>"
      ]
     },
     "execution_count": 22,
     "metadata": {},
     "output_type": "execute_result"
    }
   ],
   "source": [
    "video_url = 'Videos/12129342.mp4'\n",
    "render(get_id_from_url(video_url))"
   ]
  },
  {
   "cell_type": "code",
   "execution_count": 23,
   "metadata": {},
   "outputs": [
    {
     "name": "stdout",
     "output_type": "stream",
     "text": [
      "video stats  (8991, 360, 640, 3)\n",
      "total temporal vectors  562\n",
      "The video belongs from FUNNY category\n"
     ]
    }
   ],
   "source": [
    "query_video_embdedding,video_class = get_video_class(video_url)"
   ]
  },
  {
   "cell_type": "code",
   "execution_count": 24,
   "metadata": {},
   "outputs": [
    {
     "name": "stdout",
     "output_type": "stream",
     "text": [
      "recommended video is 12069887 \n"
     ]
    }
   ],
   "source": [
    "rec_id = find_similar(get_id_from_url(video_url),query_video_embdedding)"
   ]
  },
  {
   "cell_type": "code",
   "execution_count": 25,
   "metadata": {},
   "outputs": [
    {
     "data": {
      "text/html": [
       "\n",
       "    <video width=\"320\" height=\"240\" controls>\n",
       "      <source src=\"Videos/12069887.mp4\" type=\"video/mp4\">\n",
       "    </video>\n",
       "    "
      ],
      "text/plain": [
       "<IPython.core.display.HTML object>"
      ]
     },
     "execution_count": 25,
     "metadata": {},
     "output_type": "execute_result"
    }
   ],
   "source": [
    "render(rec_id)"
   ]
  },
  {
   "cell_type": "markdown",
   "metadata": {},
   "source": [
    "### Example 6"
   ]
  },
  {
   "cell_type": "code",
   "execution_count": 26,
   "metadata": {},
   "outputs": [
    {
     "data": {
      "text/html": [
       "\n",
       "    <video width=\"320\" height=\"240\" controls>\n",
       "      <source src=\"Videos/12124087.mp4\" type=\"video/mp4\">\n",
       "    </video>\n",
       "    "
      ],
      "text/plain": [
       "<IPython.core.display.HTML object>"
      ]
     },
     "execution_count": 26,
     "metadata": {},
     "output_type": "execute_result"
    }
   ],
   "source": [
    "video_url = 'Videos/12124087.mp4'\n",
    "render(get_id_from_url(video_url))"
   ]
  },
  {
   "cell_type": "code",
   "execution_count": 27,
   "metadata": {},
   "outputs": [
    {
     "name": "stdout",
     "output_type": "stream",
     "text": [
      "video stats  (3118, 480, 368, 3)\n",
      "total temporal vectors  195\n",
      "The video belongs from UGC category\n"
     ]
    }
   ],
   "source": [
    "query_video_embdedding,video_class = get_video_class(video_url)"
   ]
  },
  {
   "cell_type": "code",
   "execution_count": 28,
   "metadata": {},
   "outputs": [
    {
     "name": "stdout",
     "output_type": "stream",
     "text": [
      "recommended video is 12438292 \n"
     ]
    }
   ],
   "source": [
    "rec_id = find_similar(get_id_from_url(video_url),query_video_embdedding)"
   ]
  },
  {
   "cell_type": "code",
   "execution_count": 29,
   "metadata": {},
   "outputs": [
    {
     "data": {
      "text/html": [
       "\n",
       "    <video width=\"320\" height=\"240\" controls>\n",
       "      <source src=\"Videos/12438292.mp4\" type=\"video/mp4\">\n",
       "    </video>\n",
       "    "
      ],
      "text/plain": [
       "<IPython.core.display.HTML object>"
      ]
     },
     "execution_count": 29,
     "metadata": {},
     "output_type": "execute_result"
    }
   ],
   "source": [
    "render(rec_id)"
   ]
  },
  {
   "cell_type": "markdown",
   "metadata": {},
   "source": [
    "## How we can measure the quality of recommendation"
   ]
  },
  {
   "cell_type": "markdown",
   "metadata": {},
   "source": [
    "## Algorithmically , semisupervised"
   ]
  },
  {
   "cell_type": "markdown",
   "metadata": {},
   "source": [
    "Currently , have tried to attack the similarity problem by using a strong classifier which basically predicts the class of the video.\n",
    "Once we get the class of the video we calculate the euclidean  distnace between the query video's vector and the indexed video's vectors.\n",
    "This gives us good result which can be seen in the above examples.\n",
    "\n",
    "\n",
    "We can also find better similar pairs by training a classifier for the task to predict if a given pair of videos belong to the same or different action\n",
    "We can use triplet loss for optimisation in it.\n",
    "\n",
    "I have already experimented with siamese loss as part of the assignments. I tried to learn a better embeddings from the video by training a small CNN with triplet loss. The visualisations of the learnt emebedding can be seen in the \n",
    "\n",
    "[Notebook 2](triplet_loss_customised_loss.ipynb)\n",
    "\n",
    "Once we have a better embedding generated from the triplet loss network , we can use that particluar embedding to find the similar video."
   ]
  },
  {
   "cell_type": "markdown",
   "metadata": {},
   "source": [
    "## Unsupervised \n",
    "### coldstart Attempts and Baselines\n",
    "\n",
    "Simple ranking functions (e.g ratio or difference) of the number of upvotes/downvotes an recommendation receives may serve as good baselines for the answer ranking problem."
   ]
  },
  {
   "cell_type": "markdown",
   "metadata": {},
   "source": [
    "## supervised\n",
    "We can form a ground truth dataset having query video and recommendation pairs with their similarity score. We can then train a model which can predict the similarity score.\n",
    "\n"
   ]
  },
  {
   "cell_type": "code",
   "execution_count": null,
   "metadata": {},
   "outputs": [],
   "source": []
  }
 ],
 "metadata": {
  "kernelspec": {
   "display_name": "Python 3",
   "language": "python",
   "name": "python3"
  },
  "language_info": {
   "codemirror_mode": {
    "name": "ipython",
    "version": 3
   },
   "file_extension": ".py",
   "mimetype": "text/x-python",
   "name": "python",
   "nbconvert_exporter": "python",
   "pygments_lexer": "ipython3",
   "version": "3.5.2"
  }
 },
 "nbformat": 4,
 "nbformat_minor": 2
}
