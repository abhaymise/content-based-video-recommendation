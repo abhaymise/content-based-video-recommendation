{
 "cells": [
  {
   "cell_type": "code",
   "execution_count": 1,
   "metadata": {},
   "outputs": [],
   "source": [
    "%load_ext autoreload\n",
    "\n",
    "%autoreload 2"
   ]
  },
  {
   "cell_type": "code",
   "execution_count": 41,
   "metadata": {},
   "outputs": [],
   "source": [
    "# ! tar -cvf cbvr.tar.gz ."
   ]
  },
  {
   "cell_type": "markdown",
   "metadata": {},
   "source": [
    "## Read all videos"
   ]
  },
  {
   "cell_type": "code",
   "execution_count": 2,
   "metadata": {},
   "outputs": [],
   "source": [
    "import numpy as np,pandas as pd\n",
    "from collections import OrderedDict\n",
    "from pathlib import Path\n",
    "import matplotlib.pyplot as plt\n",
    "%matplotlib inline"
   ]
  },
  {
   "cell_type": "code",
   "execution_count": 3,
   "metadata": {},
   "outputs": [
    {
     "name": "stderr",
     "output_type": "stream",
     "text": [
      "Using TensorFlow backend.\n"
     ]
    },
    {
     "name": "stdout",
     "output_type": "stream",
     "text": [
      "[INFO] C3D model loaded ...\n"
     ]
    }
   ],
   "source": [
    "import all_in_one_utils as ao_util"
   ]
  },
  {
   "cell_type": "code",
   "execution_count": 4,
   "metadata": {},
   "outputs": [],
   "source": [
    "vid_cat = pd.read_csv('video-category.csv')\n",
    "mapping = OrderedDict(zip(vid_cat.iloc[:,0],vid_cat.iloc[:,1]))"
   ]
  },
  {
   "cell_type": "markdown",
   "metadata": {},
   "source": [
    "## Generate c3d encoding"
   ]
  },
  {
   "cell_type": "code",
   "execution_count": 5,
   "metadata": {},
   "outputs": [],
   "source": [
    "batch_size=16\n",
    "def get_3d_encoding(all_paths):\n",
    "    all_ = pd.DataFrame()\n",
    "    total_embeds = 0\n",
    "    for idx,vid in enumerate(all_paths):   \n",
    "        name = str(vid.absolute())\n",
    "        vid_id = vid.stem\n",
    "        num = ao_util.get_3d_feature(name,batch_size)\n",
    "        feat_cols = [ 'pixel'+str(i) for i in range(num.shape[1]) ] \n",
    "        feat_data = pd.DataFrame(num,columns=feat_cols)\n",
    "        feat_data['video_id'] = pd.Series(np.tile(int(vid_id),len(num)))\n",
    "        feat_data['label'] = pd.Series(np.tile(mapping[int(vid_id)],len(num)))\n",
    "        all_ = all_.append(feat_data,ignore_index=True)\n",
    "        total_embeds+=len(num)\n",
    "    assert len(all_) == total_embeds , \"error in reading embeddings\"\n",
    "    return all_"
   ]
  },
  {
   "cell_type": "code",
   "execution_count": 6,
   "metadata": {},
   "outputs": [],
   "source": [
    "generate_afresh = False"
   ]
  },
  {
   "cell_type": "markdown",
   "metadata": {},
   "source": [
    "## Optional : save the above info"
   ]
  },
  {
   "cell_type": "code",
   "execution_count": 7,
   "metadata": {},
   "outputs": [],
   "source": [
    "c3_encoded_data_path = (Path.home() / '.cbvr' )\n",
    "c3_encoded_data_path.mkdir(parents=True, exist_ok=True)\n",
    "c3_encoded_data_file = str(c3_encoded_data_path / 'c3_encoding.pkl')"
   ]
  },
  {
   "cell_type": "code",
   "execution_count": 8,
   "metadata": {},
   "outputs": [],
   "source": [
    "if generate_afresh:\n",
    "    video_dir = 'Videos/'\n",
    "    all_paths = sorted(Path(video_dir).glob('*.mp4'))\n",
    "    df = get_3d_encoding(all_paths)\n",
    "    df.to_pickle(c3_encoded_data_file)\n",
    "else:\n",
    "    df = pd.read_pickle(c3_encoded_data_file)"
   ]
  },
  {
   "cell_type": "code",
   "execution_count": 9,
   "metadata": {},
   "outputs": [
    {
     "data": {
      "text/html": [
       "<div>\n",
       "<style scoped>\n",
       "    .dataframe tbody tr th:only-of-type {\n",
       "        vertical-align: middle;\n",
       "    }\n",
       "\n",
       "    .dataframe tbody tr th {\n",
       "        vertical-align: top;\n",
       "    }\n",
       "\n",
       "    .dataframe thead th {\n",
       "        text-align: right;\n",
       "    }\n",
       "</style>\n",
       "<table border=\"1\" class=\"dataframe\">\n",
       "  <thead>\n",
       "    <tr style=\"text-align: right;\">\n",
       "      <th></th>\n",
       "      <th>pixel0</th>\n",
       "      <th>pixel1</th>\n",
       "      <th>pixel2</th>\n",
       "      <th>pixel3</th>\n",
       "      <th>pixel4</th>\n",
       "      <th>pixel5</th>\n",
       "      <th>pixel6</th>\n",
       "      <th>pixel7</th>\n",
       "      <th>pixel8</th>\n",
       "      <th>pixel9</th>\n",
       "      <th>...</th>\n",
       "      <th>pixel4091</th>\n",
       "      <th>pixel4092</th>\n",
       "      <th>pixel4093</th>\n",
       "      <th>pixel4094</th>\n",
       "      <th>pixel4095</th>\n",
       "      <th>video_id</th>\n",
       "      <th>label</th>\n",
       "      <th>pca-one</th>\n",
       "      <th>pca-two</th>\n",
       "      <th>pca-three</th>\n",
       "    </tr>\n",
       "  </thead>\n",
       "  <tbody>\n",
       "    <tr>\n",
       "      <th>0</th>\n",
       "      <td>0.000000</td>\n",
       "      <td>0.0</td>\n",
       "      <td>0.000000</td>\n",
       "      <td>1.218057</td>\n",
       "      <td>0.0</td>\n",
       "      <td>0.0</td>\n",
       "      <td>6.574213</td>\n",
       "      <td>0.000000</td>\n",
       "      <td>0.0</td>\n",
       "      <td>0.0</td>\n",
       "      <td>...</td>\n",
       "      <td>1.132048</td>\n",
       "      <td>0.0</td>\n",
       "      <td>0.0</td>\n",
       "      <td>0.0</td>\n",
       "      <td>0.0</td>\n",
       "      <td>12069887</td>\n",
       "      <td>FUNNY</td>\n",
       "      <td>33.493016</td>\n",
       "      <td>7.100074</td>\n",
       "      <td>-5.642242</td>\n",
       "    </tr>\n",
       "    <tr>\n",
       "      <th>1</th>\n",
       "      <td>0.000000</td>\n",
       "      <td>0.0</td>\n",
       "      <td>1.084609</td>\n",
       "      <td>2.115129</td>\n",
       "      <td>0.0</td>\n",
       "      <td>0.0</td>\n",
       "      <td>2.295232</td>\n",
       "      <td>0.000000</td>\n",
       "      <td>0.0</td>\n",
       "      <td>0.0</td>\n",
       "      <td>...</td>\n",
       "      <td>6.698915</td>\n",
       "      <td>0.0</td>\n",
       "      <td>0.0</td>\n",
       "      <td>0.0</td>\n",
       "      <td>0.0</td>\n",
       "      <td>12069887</td>\n",
       "      <td>FUNNY</td>\n",
       "      <td>26.614904</td>\n",
       "      <td>2.632102</td>\n",
       "      <td>-4.060029</td>\n",
       "    </tr>\n",
       "    <tr>\n",
       "      <th>2</th>\n",
       "      <td>0.000000</td>\n",
       "      <td>0.0</td>\n",
       "      <td>0.000000</td>\n",
       "      <td>0.000000</td>\n",
       "      <td>0.0</td>\n",
       "      <td>0.0</td>\n",
       "      <td>0.917292</td>\n",
       "      <td>0.000000</td>\n",
       "      <td>0.0</td>\n",
       "      <td>0.0</td>\n",
       "      <td>...</td>\n",
       "      <td>5.240896</td>\n",
       "      <td>0.0</td>\n",
       "      <td>0.0</td>\n",
       "      <td>0.0</td>\n",
       "      <td>0.0</td>\n",
       "      <td>12069887</td>\n",
       "      <td>FUNNY</td>\n",
       "      <td>20.847944</td>\n",
       "      <td>-1.839365</td>\n",
       "      <td>-6.114331</td>\n",
       "    </tr>\n",
       "    <tr>\n",
       "      <th>3</th>\n",
       "      <td>0.132195</td>\n",
       "      <td>0.0</td>\n",
       "      <td>3.906395</td>\n",
       "      <td>0.000000</td>\n",
       "      <td>0.0</td>\n",
       "      <td>0.0</td>\n",
       "      <td>0.000000</td>\n",
       "      <td>0.586866</td>\n",
       "      <td>0.0</td>\n",
       "      <td>0.0</td>\n",
       "      <td>...</td>\n",
       "      <td>2.319211</td>\n",
       "      <td>0.0</td>\n",
       "      <td>0.0</td>\n",
       "      <td>0.0</td>\n",
       "      <td>0.0</td>\n",
       "      <td>12069887</td>\n",
       "      <td>FUNNY</td>\n",
       "      <td>33.281023</td>\n",
       "      <td>0.585274</td>\n",
       "      <td>0.518931</td>\n",
       "    </tr>\n",
       "    <tr>\n",
       "      <th>4</th>\n",
       "      <td>0.000000</td>\n",
       "      <td>0.0</td>\n",
       "      <td>3.709773</td>\n",
       "      <td>0.000000</td>\n",
       "      <td>0.0</td>\n",
       "      <td>0.0</td>\n",
       "      <td>0.000000</td>\n",
       "      <td>0.138456</td>\n",
       "      <td>0.0</td>\n",
       "      <td>0.0</td>\n",
       "      <td>...</td>\n",
       "      <td>0.000000</td>\n",
       "      <td>0.0</td>\n",
       "      <td>0.0</td>\n",
       "      <td>0.0</td>\n",
       "      <td>0.0</td>\n",
       "      <td>12069887</td>\n",
       "      <td>FUNNY</td>\n",
       "      <td>37.347069</td>\n",
       "      <td>1.153552</td>\n",
       "      <td>-1.343067</td>\n",
       "    </tr>\n",
       "  </tbody>\n",
       "</table>\n",
       "<p>5 rows × 4101 columns</p>\n",
       "</div>"
      ],
      "text/plain": [
       "     pixel0  pixel1    pixel2    pixel3  pixel4  pixel5    pixel6    pixel7  \\\n",
       "0  0.000000     0.0  0.000000  1.218057     0.0     0.0  6.574213  0.000000   \n",
       "1  0.000000     0.0  1.084609  2.115129     0.0     0.0  2.295232  0.000000   \n",
       "2  0.000000     0.0  0.000000  0.000000     0.0     0.0  0.917292  0.000000   \n",
       "3  0.132195     0.0  3.906395  0.000000     0.0     0.0  0.000000  0.586866   \n",
       "4  0.000000     0.0  3.709773  0.000000     0.0     0.0  0.000000  0.138456   \n",
       "\n",
       "   pixel8  pixel9    ...      pixel4091  pixel4092  pixel4093  pixel4094  \\\n",
       "0     0.0     0.0    ...       1.132048        0.0        0.0        0.0   \n",
       "1     0.0     0.0    ...       6.698915        0.0        0.0        0.0   \n",
       "2     0.0     0.0    ...       5.240896        0.0        0.0        0.0   \n",
       "3     0.0     0.0    ...       2.319211        0.0        0.0        0.0   \n",
       "4     0.0     0.0    ...       0.000000        0.0        0.0        0.0   \n",
       "\n",
       "   pixel4095  video_id  label    pca-one   pca-two  pca-three  \n",
       "0        0.0  12069887  FUNNY  33.493016  7.100074  -5.642242  \n",
       "1        0.0  12069887  FUNNY  26.614904  2.632102  -4.060029  \n",
       "2        0.0  12069887  FUNNY  20.847944 -1.839365  -6.114331  \n",
       "3        0.0  12069887  FUNNY  33.281023  0.585274   0.518931  \n",
       "4        0.0  12069887  FUNNY  37.347069  1.153552  -1.343067  \n",
       "\n",
       "[5 rows x 4101 columns]"
      ]
     },
     "execution_count": 9,
     "metadata": {},
     "output_type": "execute_result"
    }
   ],
   "source": [
    "df.head()"
   ]
  },
  {
   "cell_type": "markdown",
   "metadata": {},
   "source": [
    "## mark all feature cols"
   ]
  },
  {
   "cell_type": "code",
   "execution_count": 10,
   "metadata": {},
   "outputs": [],
   "source": [
    "feat_cols = df.columns[:4096]"
   ]
  },
  {
   "cell_type": "markdown",
   "metadata": {},
   "source": [
    "## Visualise the encodings once"
   ]
  },
  {
   "cell_type": "code",
   "execution_count": 11,
   "metadata": {},
   "outputs": [],
   "source": [
    "rndperm = np.random.permutation(df.shape[0])"
   ]
  },
  {
   "cell_type": "code",
   "execution_count": 12,
   "metadata": {},
   "outputs": [
    {
     "name": "stdout",
     "output_type": "stream",
     "text": [
      "Explained variation per principal component: [0.08674966 0.04609506 0.02766516]\n"
     ]
    }
   ],
   "source": [
    "from sklearn.decomposition import PCA\n",
    "\n",
    "pca = PCA(n_components=3)\n",
    "pca_result = pca.fit_transform(df[feat_cols].values)\n",
    "\n",
    "df['pca-one'] = pca_result[:,0]\n",
    "df['pca-two'] = pca_result[:,1] \n",
    "df['pca-three'] = pca_result[:,2]\n",
    "\n",
    "print ('Explained variation per principal component: {}'.format(pca.explained_variance_ratio_))\n"
   ]
  },
  {
   "cell_type": "code",
   "execution_count": 13,
   "metadata": {},
   "outputs": [
    {
     "name": "stderr",
     "output_type": "stream",
     "text": [
      "/home/deep-vision/.virtualenvs/video-works/lib/python3.5/site-packages/ggplot/utils.py:81: FutureWarning: pandas.tslib is deprecated and will be removed in a future version.\n",
      "You can access Timestamp as pandas.Timestamp\n",
      "  pd.tslib.Timestamp,\n"
     ]
    }
   ],
   "source": [
    "from ggplot import *\n",
    "\n",
    "chart = ggplot( df.loc[rndperm[:3000],:], aes(x='pca-one', y='pca-two' , color='label') ) \\\n",
    "        + geom_point(size=75,alpha=0.8) \\\n",
    "        + ggtitle(\"First and Second Principal Components \")\n"
   ]
  },
  {
   "cell_type": "code",
   "execution_count": 14,
   "metadata": {},
   "outputs": [
    {
     "data": {
      "image/png": "[encoded data removed]",
      "text/plain": [
       "<Figure size 792x576 with 1 Axes>"
      ]
     },
     "metadata": {},
     "output_type": "display_data"
    },
    {
     "data": {
      "text/plain": [
       "<ggplot: (8788841092872)>"
      ]
     },
     "execution_count": 14,
     "metadata": {},
     "output_type": "execute_result"
    }
   ],
   "source": [
    "chart"
   ]
  },
  {
   "cell_type": "markdown",
   "metadata": {},
   "source": [
    "## Reduce the dimension to have 90% variance"
   ]
  },
  {
   "cell_type": "code",
   "execution_count": 15,
   "metadata": {},
   "outputs": [],
   "source": [
    "vid_matrix = df[feat_cols].values"
   ]
  },
  {
   "cell_type": "code",
   "execution_count": 16,
   "metadata": {},
   "outputs": [],
   "source": [
    "from sklearn.preprocessing import StandardScaler\n",
    "scaler = StandardScaler()\n",
    "scaler.fit(vid_matrix)\n",
    "# Apply transform to both the training set and the test set.\n",
    "scaled_vid_matrix = scaler.transform(vid_matrix)"
   ]
  },
  {
   "cell_type": "code",
   "execution_count": 17,
   "metadata": {},
   "outputs": [
    {
     "name": "stdout",
     "output_type": "stream",
     "text": [
      "Explained variation per principal component: 0.9500413519926723\n"
     ]
    }
   ],
   "source": [
    "pca_90 = PCA(0.95)\n",
    "pca_90.fit(scaled_vid_matrix)\n",
    "pca_result_90 = pca_90.transform(scaled_vid_matrix)\n",
    "\n",
    "print ('Explained variation per principal component: {}'.format(np.sum(pca_90.explained_variance_ratio_)))"
   ]
  },
  {
   "cell_type": "code",
   "execution_count": 18,
   "metadata": {},
   "outputs": [
    {
     "data": {
      "text/plain": [
       "(19315, 1468)"
      ]
     },
     "execution_count": 18,
     "metadata": {},
     "output_type": "execute_result"
    }
   ],
   "source": [
    "pca_result_90.shape"
   ]
  },
  {
   "cell_type": "code",
   "execution_count": 19,
   "metadata": {},
   "outputs": [],
   "source": [
    "pca_feat_cols = [ 'pixel'+str(i) for i in range(pca_result_90.shape[1]) ] \n",
    "pca_df = pd.DataFrame(pca_result_90,columns=pca_feat_cols)"
   ]
  },
  {
   "cell_type": "code",
   "execution_count": 20,
   "metadata": {},
   "outputs": [],
   "source": [
    "pca_df[['video_id','label']] = df[['video_id','label']]"
   ]
  },
  {
   "cell_type": "markdown",
   "metadata": {},
   "source": [
    "## attach the id , class and class id. "
   ]
  },
  {
   "cell_type": "code",
   "execution_count": 21,
   "metadata": {},
   "outputs": [],
   "source": [
    "X = pca_result_90\n",
    "ids,text_labels = df.label.factorize()\n",
    "Y = ids"
   ]
  },
  {
   "cell_type": "code",
   "execution_count": 22,
   "metadata": {},
   "outputs": [],
   "source": [
    "n_classes = len(np.unique(Y))\n",
    "input_dim = X.shape[1]"
   ]
  },
  {
   "cell_type": "code",
   "execution_count": 23,
   "metadata": {},
   "outputs": [],
   "source": [
    "import matplotlib.pyplot as plt\n",
    "import matplotlib.patheffects as PathEffects\n",
    "import seaborn as sns\n",
    "sns.set_style('darkgrid')\n",
    "sns.set_palette('muted')\n",
    "sns.set_context('notebook', font_scale=1.5,\n",
    "                rc={\"lines.linewidth\": 2.5})\n",
    "\n",
    "from sklearn.manifold import TSNE\n",
    "\n",
    "def scatter(x, labels, subtitle=None):\n",
    "    # We choose a color palette with seaborn.\n",
    "    palette = np.array(sns.color_palette(\"hls\", n_classes))\n",
    "\n",
    "    # We create a scatter plot.\n",
    "    f = plt.figure(figsize=(8, 8))\n",
    "    ax = plt.subplot(aspect='equal')\n",
    "    sc = ax.scatter(x[:,0], x[:,1], lw=0, s=40,\n",
    "                    c=palette[labels.astype(np.int)])\n",
    "    plt.xlim(-25, 25)\n",
    "    plt.ylim(-25, 25)\n",
    "    ax.axis('off')\n",
    "    ax.axis('tight')\n",
    "\n",
    "    # We add the labels for each digit.\n",
    "    txts = []\n",
    "    for i in range(n_classes):\n",
    "        # Position of each label.\n",
    "        xtext, ytext = np.median(x[labels == i, :], axis=0)\n",
    "        txt = ax.text(xtext, ytext, text_labels[i], fontsize=14)\n",
    "        txt.set_path_effects([\n",
    "            PathEffects.Stroke(linewidth=5, foreground=\"w\"),\n",
    "            PathEffects.Normal()])\n",
    "        txts.append(txt)\n",
    "        \n",
    "    if subtitle != None:\n",
    "        plt.suptitle(subtitle)\n",
    "        \n",
    "    plt.show()\n",
    "\n",
    "# Generating and visualizing t-SNE embeddings of the raw data\n",
    "# of the first 512 samples.\n",
    "# tsne = TSNE()\n",
    "# train_tsne_embeds = tsne.fit_transform(X)\n",
    "# scatter(train_tsne_embeds, Y, \"Samples from Training Data\")"
   ]
  },
  {
   "cell_type": "markdown",
   "metadata": {},
   "source": [
    "## Train a classifier to check accuracy"
   ]
  },
  {
   "cell_type": "markdown",
   "metadata": {},
   "source": [
    "#### split the data"
   ]
  },
  {
   "cell_type": "code",
   "execution_count": 24,
   "metadata": {},
   "outputs": [],
   "source": [
    "from sklearn.model_selection import train_test_split\n",
    "# test_size: what proportion of original data is used for test set\n",
    "train_X, test_X, train_ids, test_ids = train_test_split(\n",
    "    X, Y, test_size=0.1, random_state=0)"
   ]
  },
  {
   "cell_type": "code",
   "execution_count": 25,
   "metadata": {},
   "outputs": [
    {
     "data": {
      "text/plain": [
       "(1932,)"
      ]
     },
     "execution_count": 25,
     "metadata": {},
     "output_type": "execute_result"
    }
   ],
   "source": [
    "test_ids.shape"
   ]
  },
  {
   "cell_type": "code",
   "execution_count": 26,
   "metadata": {},
   "outputs": [],
   "source": [
    "import all_classifiers as cls"
   ]
  },
  {
   "cell_type": "markdown",
   "metadata": {},
   "source": [
    "###### logistic regression"
   ]
  },
  {
   "cell_type": "code",
   "execution_count": 27,
   "metadata": {},
   "outputs": [
    {
     "name": "stdout",
     "output_type": "stream",
     "text": [
      "0.9684265010351967\n"
     ]
    }
   ],
   "source": [
    "logsitic_model = cls.train_and_report(train_X, train_ids,test_X,test_ids,algo_name='logistic')"
   ]
  },
  {
   "cell_type": "markdown",
   "metadata": {},
   "source": [
    "## MLP"
   ]
  },
  {
   "cell_type": "code",
   "execution_count": 33,
   "metadata": {},
   "outputs": [
    {
     "name": "stdout",
     "output_type": "stream",
     "text": [
      "Epoch 1/10\n",
      "17383/17383 [==============================] - 4s 239us/step - loss: 0.6005 - acc: 0.7892\n",
      "Epoch 2/10\n",
      "17383/17383 [==============================] - 4s 212us/step - loss: 0.2311 - acc: 0.9126\n",
      "Epoch 3/10\n",
      "17383/17383 [==============================] - 4s 213us/step - loss: 0.1704 - acc: 0.9315\n",
      "Epoch 4/10\n",
      "17383/17383 [==============================] - 4s 212us/step - loss: 0.1415 - acc: 0.9407\n",
      "Epoch 5/10\n",
      "17383/17383 [==============================] - 4s 213us/step - loss: 0.1243 - acc: 0.9460\n",
      "Epoch 6/10\n",
      "17383/17383 [==============================] - 4s 212us/step - loss: 0.1098 - acc: 0.9505\n",
      "Epoch 7/10\n",
      "17383/17383 [==============================] - 4s 213us/step - loss: 0.1063 - acc: 0.9520\n",
      "Epoch 8/10\n",
      "17383/17383 [==============================] - 4s 214us/step - loss: 0.0960 - acc: 0.9563\n",
      "Epoch 9/10\n",
      "17383/17383 [==============================] - 4s 214us/step - loss: 0.1003 - acc: 0.9558\n",
      "Epoch 10/10\n",
      "17383/17383 [==============================] - 4s 213us/step - loss: 0.1342 - acc: 0.9442\n",
      "1932/1932 [==============================] - 0s 100us/step\n",
      "[INFO] your final reported test accuracy score is 97.0% on 1932 samples having 7 classes \n"
     ]
    }
   ],
   "source": [
    "mlp_model = cls.train_and_report(train_X, train_ids,test_X,test_ids,algo_name='mlp')"
   ]
  },
  {
   "cell_type": "code",
   "execution_count": 53,
   "metadata": {},
   "outputs": [],
   "source": [
    "## save all pickle objects \n",
    "import pickle\n",
    "\n",
    "def save_all_intermediates(directory):\n",
    "    ## scalar\n",
    "    with open(directory+\"/scalar.pkl\",\"wb\") as scalar_:\n",
    "        pickle.dump(scaler, scalar_)\n",
    "    ## pca\n",
    "    with open(directory+\"/pca.pkl\",\"wb\") as pca_:\n",
    "        pickle.dump(pca_90, pca_)\n",
    "\n",
    "    # Creates a HDF5 file 'my_model.h5'\n",
    "    mlp_model.save(directory+\"/mlp_model.pkl\")\n",
    "    \n",
    "     ## pca\n",
    "    with open(directory+\"/text_labels.pkl\",\"wb\") as text_labels_:\n",
    "        pickle.dump(text_labels, text_labels_)\n",
    "    \n",
    "    ## features \n",
    "    with open(directory+\"/pca_df.pkl\",\"wb\") as pca_df_:\n",
    "        pickle.dump(pca_df, pca_df_)\n",
    "\n",
    "save_all_intermediates(\"/home/deep-vision/.cbvr/persistent_files\")\n",
    "# ! ls -al "
   ]
  },
  {
   "cell_type": "code",
   "execution_count": null,
   "metadata": {},
   "outputs": [],
   "source": [
    "from keras.models import load_model\n",
    "def get_all_intermediates(directory):\n",
    "    mlp_model = load_model(directory+\"/mlp_model.pkl\")\n",
    "    with open(directory+\"/scalar.pkl\",\"rb\") as scalar_:\n",
    "        scaler = pickle.load( scalar_)\n",
    "    ## pca\n",
    "    with open(directory+\"/pca.pkl\",\"rb\") as pca_:\n",
    "        pca_90 = pickle.load( pca_)\n",
    "     ## pca\n",
    "    with open(directory+\"/text_labels.pkl\",\"rb\") as text_labels_:\n",
    "        text_labels = pickle.load( text_labels_)\n",
    "    ## features \n",
    "    with open(directory+\"/pca_df.pkl\",\"rb\") as pca_df_:\n",
    "        pca_df = pickle.load( pca_df_) \n",
    "    return scaler,pca_90,pca_df,mlp_model,text_labels"
   ]
  },
  {
   "cell_type": "markdown",
   "metadata": {},
   "source": [
    "# Testing "
   ]
  },
  {
   "cell_type": "markdown",
   "metadata": {},
   "source": [
    "1. read the video\n",
    "2. get the c3d encoding\n",
    "3. PCA with train settings\n",
    "5. pass through the siamese model to get the embedding\n",
    "6. pass through the video classification model to get the class id\n",
    "7. Load encodings for all videos corresponding the judged class id\n",
    "8. Calculate distance between the query video encodings and judged video encodings\n",
    "9. take top video-id for each ecoding\n",
    "10. whichever video id repeats most becomes the recommended video"
   ]
  },
  {
   "cell_type": "code",
   "execution_count": null,
   "metadata": {},
   "outputs": [],
   "source": [
    "def get_video_class(video_path):\n",
    "    query_c3d = ao_util.get_3d_feature(video_path)\n",
    "\n",
    "    scaled_query = scaler.transform(query_c3d)\n",
    "\n",
    "    query_video_embdedding = pca_90.transform(scaled_query)\n",
    "\n",
    "    predicted_class = mlp_model.predict_classes(query_video_embdedding,128)\n",
    "\n",
    "    predicted_class = list(map(lambda x : text_labels[x],predicted_class))\n",
    "\n",
    "    return query_video_embdedding,max(predicted_class,key=predicted_class.count)\n"
   ]
  },
  {
   "cell_type": "code",
   "execution_count": null,
   "metadata": {},
   "outputs": [],
   "source": [
    "\n",
    "# 12124087 , 12099245 , 12461814 , 12459567 , 12377756\n",
    "video_url = 'Videos/12099245.mp4'\n",
    "\n",
    "from IPython.display import HTML\n",
    "HTML(\"\"\"\n",
    "<video width=\"320\" height=\"240\" controls>\n",
    "  <source src=\"{}\" type=\"video/mp4\">\n",
    "</video>\n",
    "\"\"\".format(video_url))"
   ]
  },
  {
   "cell_type": "code",
   "execution_count": null,
   "metadata": {},
   "outputs": [],
   "source": [
    "query_video_embdedding,video_class = get_video_class(video_url)\n",
    "\n",
    "print(\"The video belongs from {} category\".format(video_class))\n",
    "\n",
    "video_id = int(video_url.split(\"/\")[-1].split(\".\")[0])\n",
    "\n",
    "filtered_embedding = pca_df[(pca_df['label']==video_class) & \n",
    "                            (pca_df['video_id']!=video_id)]\n",
    "\n",
    "pixel_cols =[val for val in pca_df.columns if val.startswith('pixel')]\n",
    "\n",
    "indexed_embedding = filtered_embedding[pixel_cols]\n",
    "\n",
    "from scipy.spatial.distance import cdist\n",
    "distance = cdist(query_video_embdedding,indexed_embedding)\n",
    "\n",
    "n_least = 1\n",
    "sorted_idx = np.argsort(distance,axis=1)[:,:n_least]\n",
    "\n",
    "clip_to_id = np.apply_along_axis(lambda vid_id : filtered_embedding['video_id'].iloc[vid_id] , 1, sorted_idx)\n",
    "\n",
    "from scipy import stats\n",
    "repeated = stats.mode(clip_to_id)\n",
    "\n",
    "rec_id = np.asscalar(repeated[0])\n",
    "print(rec_id)"
   ]
  },
  {
   "cell_type": "code",
   "execution_count": 39,
   "metadata": {},
   "outputs": [
    {
     "data": {
      "text/html": [
       "\n",
       "<video width=\"320\" height=\"240\" controls>\n",
       "  <source src=\"Videos/12119230.mp4\" type=\"video/mp4\">\n",
       "</video>\n"
      ],
      "text/plain": [
       "<IPython.core.display.HTML object>"
      ]
     },
     "execution_count": 39,
     "metadata": {},
     "output_type": "execute_result"
    }
   ],
   "source": [
    "from IPython.display import HTML\n",
    "HTML(\"\"\"\n",
    "<video width=\"320\" height=\"240\" controls>\n",
    "  <source src=\"Videos/{}.mp4\" type=\"video/mp4\">\n",
    "</video>\n",
    "\"\"\".format(rec_id))"
   ]
  },
  {
   "cell_type": "code",
   "execution_count": null,
   "metadata": {},
   "outputs": [],
   "source": []
  },
  {
   "cell_type": "code",
   "execution_count": null,
   "metadata": {},
   "outputs": [],
   "source": []
  }
 ],
 "metadata": {
  "kernelspec": {
   "display_name": "Python 3",
   "language": "python",
   "name": "python3"
  },
  "language_info": {
   "codemirror_mode": {
    "name": "ipython",
    "version": 3
   },
   "file_extension": ".py",
   "mimetype": "text/x-python",
   "name": "python",
   "nbconvert_exporter": "python",
   "pygments_lexer": "ipython3",
   "version": "3.5.2"
  }
 },
 "nbformat": 4,
 "nbformat_minor": 2
}
